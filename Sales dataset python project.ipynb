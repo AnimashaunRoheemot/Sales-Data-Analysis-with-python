{
 "cells": [
  {
   "cell_type": "markdown",
   "id": "528bc3ac-affe-4bd0-98de-0d06f2463188",
   "metadata": {},
   "source": [
    "## Sales dataset project \n",
    "Objectives\n",
    "1. Import the sales dataset into a Pandas Data Frame and get familiar with its structure and content.\n",
    "2. Identify and handle missing values, remove duplicates, fix formatting issues (extra spaces), and convert columns to appropriate data types.\n",
    "3. Use descriptive statistics and aggregation techniques to explore trends, distributions, and group-wise summaries.\n",
    "4. Answer key business questions using Python and Pandas."
   ]
  },
  {
   "cell_type": "code",
   "execution_count": 1,
   "id": "6a5a1331-8c0a-45a3-bd27-400eb222acb2",
   "metadata": {},
   "outputs": [
    {
     "name": "stdout",
     "output_type": "stream",
     "text": [
      "successful\n"
     ]
    }
   ],
   "source": [
    "#importing the neccessary libraries\n",
    "import pandas as pd \n",
    "import matplotlib.pyplot as plt \n",
    "import seaborn as sns \n",
    "import numpy as np \n",
    "import missingno as mno \n",
    "import warnings \n",
    "warnings.filterwarnings('ignore') \n",
    "%matplotlib inline\n",
    "sns.set(style='whitegrid')\n",
    "print('successful') "
   ]
  },
  {
   "cell_type": "markdown",
   "id": "9e624d5a-f6f9-4faf-9acc-8d61eec9965f",
   "metadata": {},
   "source": [
    "## Objectives"
   ]
  },
  {
   "cell_type": "code",
   "execution_count": 3,
   "id": "764c4fc2-acc5-4c48-909d-3e4c67f22f38",
   "metadata": {},
   "outputs": [
    {
     "name": "stdout",
     "output_type": "stream",
     "text": [
      "successful\n"
     ]
    }
   ],
   "source": [
    "#import the dataset\n",
    "file_path = r\"C:\\Users\\user\\OneDrive\\Desktop\\Axia Africa Project files\\Python_SalesData.xlsx\"\n",
    "df= pd.read_excel(file_path)\n",
    "print ('successful') "
   ]
  },
  {
   "cell_type": "code",
   "execution_count": 4,
   "id": "d2d51381-d33e-44c8-8152-8cd1b1251d56",
   "metadata": {},
   "outputs": [
    {
     "data": {
      "text/html": [
       "<div>\n",
       "<style scoped>\n",
       "    .dataframe tbody tr th:only-of-type {\n",
       "        vertical-align: middle;\n",
       "    }\n",
       "\n",
       "    .dataframe tbody tr th {\n",
       "        vertical-align: top;\n",
       "    }\n",
       "\n",
       "    .dataframe thead th {\n",
       "        text-align: right;\n",
       "    }\n",
       "</style>\n",
       "<table border=\"1\" class=\"dataframe\">\n",
       "  <thead>\n",
       "    <tr style=\"text-align: right;\">\n",
       "      <th></th>\n",
       "      <th>Unnamed: 0</th>\n",
       "      <th>Order ID</th>\n",
       "      <th>Date</th>\n",
       "      <th>Product</th>\n",
       "      <th>Price</th>\n",
       "      <th>Quantity</th>\n",
       "      <th>Purchase Type</th>\n",
       "      <th>Payment Method</th>\n",
       "      <th>Manager</th>\n",
       "      <th>City</th>\n",
       "    </tr>\n",
       "  </thead>\n",
       "  <tbody>\n",
       "    <tr>\n",
       "      <th>0</th>\n",
       "      <td>NaN</td>\n",
       "      <td>10452</td>\n",
       "      <td>2022-11-07</td>\n",
       "      <td>Fries</td>\n",
       "      <td>3.49</td>\n",
       "      <td>573.065903</td>\n",
       "      <td>Online</td>\n",
       "      <td>Gift Card</td>\n",
       "      <td>Tom      Jackson</td>\n",
       "      <td>London</td>\n",
       "    </tr>\n",
       "    <tr>\n",
       "      <th>1</th>\n",
       "      <td>NaN</td>\n",
       "      <td>10453</td>\n",
       "      <td>2022-11-07</td>\n",
       "      <td>Beverages</td>\n",
       "      <td>2.95</td>\n",
       "      <td>745.762712</td>\n",
       "      <td>Online</td>\n",
       "      <td>Gift Card</td>\n",
       "      <td>Pablo Perez</td>\n",
       "      <td>Madrid</td>\n",
       "    </tr>\n",
       "    <tr>\n",
       "      <th>2</th>\n",
       "      <td>NaN</td>\n",
       "      <td>10454</td>\n",
       "      <td>2022-11-07</td>\n",
       "      <td>Sides &amp; Other</td>\n",
       "      <td>4.99</td>\n",
       "      <td>200.400802</td>\n",
       "      <td>In-store</td>\n",
       "      <td>Gift Card</td>\n",
       "      <td>Joao    Silva</td>\n",
       "      <td>Lisbon</td>\n",
       "    </tr>\n",
       "    <tr>\n",
       "      <th>3</th>\n",
       "      <td>NaN</td>\n",
       "      <td>10455</td>\n",
       "      <td>2022-11-08</td>\n",
       "      <td>Burgers</td>\n",
       "      <td>12.99</td>\n",
       "      <td>569.668976</td>\n",
       "      <td>In-store</td>\n",
       "      <td>Credit Card</td>\n",
       "      <td>Walter Muller</td>\n",
       "      <td>Berlin</td>\n",
       "    </tr>\n",
       "    <tr>\n",
       "      <th>4</th>\n",
       "      <td>NaN</td>\n",
       "      <td>10456</td>\n",
       "      <td>2022-11-08</td>\n",
       "      <td>Chicken Sandwiches</td>\n",
       "      <td>9.95</td>\n",
       "      <td>201.005025</td>\n",
       "      <td>In-store</td>\n",
       "      <td>Credit Card</td>\n",
       "      <td>Walter Muller</td>\n",
       "      <td>Berlin</td>\n",
       "    </tr>\n",
       "  </tbody>\n",
       "</table>\n",
       "</div>"
      ],
      "text/plain": [
       "   Unnamed: 0  Order ID       Date             Product  Price    Quantity  \\\n",
       "0         NaN     10452 2022-11-07               Fries   3.49  573.065903   \n",
       "1         NaN     10453 2022-11-07           Beverages   2.95  745.762712   \n",
       "2         NaN     10454 2022-11-07       Sides & Other   4.99  200.400802   \n",
       "3         NaN     10455 2022-11-08             Burgers  12.99  569.668976   \n",
       "4         NaN     10456 2022-11-08  Chicken Sandwiches   9.95  201.005025   \n",
       "\n",
       "  Purchase Type Payment Method             Manager    City  \n",
       "0       Online       Gift Card    Tom      Jackson  London  \n",
       "1       Online       Gift Card         Pablo Perez  Madrid  \n",
       "2     In-store       Gift Card       Joao    Silva  Lisbon  \n",
       "3     In-store     Credit Card       Walter Muller  Berlin  \n",
       "4     In-store     Credit Card       Walter Muller  Berlin  "
      ]
     },
     "execution_count": 4,
     "metadata": {},
     "output_type": "execute_result"
    }
   ],
   "source": [
    "# exploring the dataset\n",
    "df.head (5)"
   ]
  },
  {
   "cell_type": "markdown",
   "id": "adfae462-325b-4497-a746-00df07295096",
   "metadata": {},
   "source": [
    "# Data Cleaning \n",
    "1. Identify and handle missing values.\n",
    "2. remove duplicates, fix formatting issues (extra spaces).\n",
    "3. convert columns to appropriate data types."
   ]
  },
  {
   "cell_type": "code",
   "execution_count": 6,
   "id": "bc2c05cb-71cc-4140-becf-4f831743a2ee",
   "metadata": {},
   "outputs": [
    {
     "name": "stdout",
     "output_type": "stream",
     "text": [
      "missing values before filling :\n",
      " Unnamed: 0        254\n",
      "Order ID            0\n",
      "Date                0\n",
      "Product             0\n",
      "Price               0\n",
      "Quantity            0\n",
      "Purchase Type       0\n",
      "Payment Method      0\n",
      "Manager             0\n",
      "City                0\n",
      "dtype: int64\n"
     ]
    }
   ],
   "source": [
    "# Identify and Handling missing values \n",
    "print (f\"missing values before filling :\\n\",df.isnull().sum())"
   ]
  },
  {
   "cell_type": "markdown",
   "id": "6b1fdce1-ac26-4134-9c0b-cf9575c79d08",
   "metadata": {},
   "source": [
    "## we noticed a column 'unnamed:0' with missing values so we removed it"
   ]
  },
  {
   "cell_type": "code",
   "execution_count": 7,
   "id": "35cc11f8-d546-4d4e-8138-590a7fc839e9",
   "metadata": {},
   "outputs": [
    {
     "data": {
      "text/html": [
       "<div>\n",
       "<style scoped>\n",
       "    .dataframe tbody tr th:only-of-type {\n",
       "        vertical-align: middle;\n",
       "    }\n",
       "\n",
       "    .dataframe tbody tr th {\n",
       "        vertical-align: top;\n",
       "    }\n",
       "\n",
       "    .dataframe thead th {\n",
       "        text-align: right;\n",
       "    }\n",
       "</style>\n",
       "<table border=\"1\" class=\"dataframe\">\n",
       "  <thead>\n",
       "    <tr style=\"text-align: right;\">\n",
       "      <th></th>\n",
       "      <th>Order ID</th>\n",
       "      <th>Date</th>\n",
       "      <th>Product</th>\n",
       "      <th>Price</th>\n",
       "      <th>Quantity</th>\n",
       "      <th>Purchase Type</th>\n",
       "      <th>Payment Method</th>\n",
       "      <th>Manager</th>\n",
       "      <th>City</th>\n",
       "    </tr>\n",
       "  </thead>\n",
       "  <tbody>\n",
       "    <tr>\n",
       "      <th>0</th>\n",
       "      <td>10452</td>\n",
       "      <td>2022-11-07</td>\n",
       "      <td>Fries</td>\n",
       "      <td>3.49</td>\n",
       "      <td>573.065903</td>\n",
       "      <td>Online</td>\n",
       "      <td>Gift Card</td>\n",
       "      <td>Tom      Jackson</td>\n",
       "      <td>London</td>\n",
       "    </tr>\n",
       "    <tr>\n",
       "      <th>1</th>\n",
       "      <td>10453</td>\n",
       "      <td>2022-11-07</td>\n",
       "      <td>Beverages</td>\n",
       "      <td>2.95</td>\n",
       "      <td>745.762712</td>\n",
       "      <td>Online</td>\n",
       "      <td>Gift Card</td>\n",
       "      <td>Pablo Perez</td>\n",
       "      <td>Madrid</td>\n",
       "    </tr>\n",
       "    <tr>\n",
       "      <th>2</th>\n",
       "      <td>10454</td>\n",
       "      <td>2022-11-07</td>\n",
       "      <td>Sides &amp; Other</td>\n",
       "      <td>4.99</td>\n",
       "      <td>200.400802</td>\n",
       "      <td>In-store</td>\n",
       "      <td>Gift Card</td>\n",
       "      <td>Joao    Silva</td>\n",
       "      <td>Lisbon</td>\n",
       "    </tr>\n",
       "    <tr>\n",
       "      <th>3</th>\n",
       "      <td>10455</td>\n",
       "      <td>2022-11-08</td>\n",
       "      <td>Burgers</td>\n",
       "      <td>12.99</td>\n",
       "      <td>569.668976</td>\n",
       "      <td>In-store</td>\n",
       "      <td>Credit Card</td>\n",
       "      <td>Walter Muller</td>\n",
       "      <td>Berlin</td>\n",
       "    </tr>\n",
       "    <tr>\n",
       "      <th>4</th>\n",
       "      <td>10456</td>\n",
       "      <td>2022-11-08</td>\n",
       "      <td>Chicken Sandwiches</td>\n",
       "      <td>9.95</td>\n",
       "      <td>201.005025</td>\n",
       "      <td>In-store</td>\n",
       "      <td>Credit Card</td>\n",
       "      <td>Walter Muller</td>\n",
       "      <td>Berlin</td>\n",
       "    </tr>\n",
       "  </tbody>\n",
       "</table>\n",
       "</div>"
      ],
      "text/plain": [
       "   Order ID       Date             Product  Price    Quantity Purchase Type  \\\n",
       "0     10452 2022-11-07               Fries   3.49  573.065903       Online    \n",
       "1     10453 2022-11-07           Beverages   2.95  745.762712       Online    \n",
       "2     10454 2022-11-07       Sides & Other   4.99  200.400802     In-store    \n",
       "3     10455 2022-11-08             Burgers  12.99  569.668976     In-store    \n",
       "4     10456 2022-11-08  Chicken Sandwiches   9.95  201.005025     In-store    \n",
       "\n",
       "  Payment Method             Manager    City  \n",
       "0      Gift Card    Tom      Jackson  London  \n",
       "1      Gift Card         Pablo Perez  Madrid  \n",
       "2      Gift Card       Joao    Silva  Lisbon  \n",
       "3    Credit Card       Walter Muller  Berlin  \n",
       "4    Credit Card       Walter Muller  Berlin  "
      ]
     },
     "execution_count": 7,
     "metadata": {},
     "output_type": "execute_result"
    }
   ],
   "source": [
    "df=df[['Order ID', 'Date', 'Product', 'Price', 'Quantity', 'Purchase Type','Payment Method','Manager','City']] \n",
    "df.head(5) "
   ]
  },
  {
   "cell_type": "code",
   "execution_count": 8,
   "id": "6c65598a-dc51-4c72-be4a-236f76a8be7f",
   "metadata": {},
   "outputs": [
    {
     "data": {
      "text/plain": [
       "np.False_"
      ]
     },
     "execution_count": 8,
     "metadata": {},
     "output_type": "execute_result"
    }
   ],
   "source": [
    "# Checked for duplicate  \n",
    "df.duplicated().any()"
   ]
  },
  {
   "cell_type": "markdown",
   "id": "e40676b9-c23e-4d71-907f-32222a01a5e9",
   "metadata": {},
   "source": [
    "## Handling extra spaces (formatting)\n"
   ]
  },
  {
   "cell_type": "code",
   "execution_count": 9,
   "id": "95196823-f62c-4b53-96ca-58c45ebe497b",
   "metadata": {},
   "outputs": [
    {
     "data": {
      "text/plain": [
       "np.True_"
      ]
     },
     "execution_count": 9,
     "metadata": {},
     "output_type": "execute_result"
    }
   ],
   "source": [
    "# checked for extra spaces (formatting)\n",
    "df.applymap(lambda x: isinstance(x, str) and (\" \" in x)).any().any()"
   ]
  },
  {
   "cell_type": "code",
   "execution_count": 10,
   "id": "0bc355da-1a2f-42f7-aea0-a76e3795e0df",
   "metadata": {},
   "outputs": [
    {
     "name": "stdout",
     "output_type": "stream",
     "text": [
      "successful\n"
     ]
    }
   ],
   "source": [
    "# removed extra spaces\n",
    "import re  # Added import statement for the re module\n",
    "df = df.applymap(lambda x: re.sub(r'\\s+', ' ', x).strip() if isinstance(x, str) else x)\n",
    "print ('successful')"
   ]
  },
  {
   "cell_type": "code",
   "execution_count": 11,
   "id": "770e6845-3bd0-4a43-9ef8-9723ae8c23b5",
   "metadata": {},
   "outputs": [
    {
     "data": {
      "text/plain": [
       "Order ID                   int64\n",
       "Date              datetime64[ns]\n",
       "Product                   object\n",
       "Price                    float64\n",
       "Quantity                 float64\n",
       "Purchase Type             object\n",
       "Payment Method            object\n",
       "Manager                   object\n",
       "City                      object\n",
       "dtype: object"
      ]
     },
     "execution_count": 11,
     "metadata": {},
     "output_type": "execute_result"
    }
   ],
   "source": [
    "# checked for data type \n",
    "df.dtypes"
   ]
  },
  {
   "cell_type": "code",
   "execution_count": null,
   "id": "ced9bba1-7c2c-44f8-a4f0-d2b83ef59785",
   "metadata": {},
   "outputs": [],
   "source": []
  },
  {
   "cell_type": "markdown",
   "id": "edaa5e5c-51fd-48cc-9c33-b6c75609137c",
   "metadata": {},
   "source": [
    "## Exploring the dataset"
   ]
  },
  {
   "cell_type": "code",
   "execution_count": 12,
   "id": "e152fbc1-b52e-4317-8a39-e5e9ac06ceaf",
   "metadata": {},
   "outputs": [
    {
     "data": {
      "text/html": [
       "<div>\n",
       "<style scoped>\n",
       "    .dataframe tbody tr th:only-of-type {\n",
       "        vertical-align: middle;\n",
       "    }\n",
       "\n",
       "    .dataframe tbody tr th {\n",
       "        vertical-align: top;\n",
       "    }\n",
       "\n",
       "    .dataframe thead th {\n",
       "        text-align: right;\n",
       "    }\n",
       "</style>\n",
       "<table border=\"1\" class=\"dataframe\">\n",
       "  <thead>\n",
       "    <tr style=\"text-align: right;\">\n",
       "      <th></th>\n",
       "      <th>count</th>\n",
       "      <th>mean</th>\n",
       "      <th>min</th>\n",
       "      <th>25%</th>\n",
       "      <th>50%</th>\n",
       "      <th>75%</th>\n",
       "      <th>max</th>\n",
       "      <th>std</th>\n",
       "    </tr>\n",
       "  </thead>\n",
       "  <tbody>\n",
       "    <tr>\n",
       "      <th>Order ID</th>\n",
       "      <td>254.0</td>\n",
       "      <td>10584.133858</td>\n",
       "      <td>10452.0</td>\n",
       "      <td>10520.25</td>\n",
       "      <td>10583.5</td>\n",
       "      <td>10649.75</td>\n",
       "      <td>10713.0</td>\n",
       "      <td>75.889181</td>\n",
       "    </tr>\n",
       "    <tr>\n",
       "      <th>Date</th>\n",
       "      <td>254</td>\n",
       "      <td>2022-12-03 10:23:37.322834688</td>\n",
       "      <td>2022-11-07 00:00:00</td>\n",
       "      <td>2022-11-21 00:00:00</td>\n",
       "      <td>2022-12-03 00:00:00</td>\n",
       "      <td>2022-12-16 18:00:00</td>\n",
       "      <td>2022-12-29 00:00:00</td>\n",
       "      <td>NaN</td>\n",
       "    </tr>\n",
       "    <tr>\n",
       "      <th>Price</th>\n",
       "      <td>254.0</td>\n",
       "      <td>7.102323</td>\n",
       "      <td>2.95</td>\n",
       "      <td>3.49</td>\n",
       "      <td>4.99</td>\n",
       "      <td>9.95</td>\n",
       "      <td>29.05</td>\n",
       "      <td>4.341855</td>\n",
       "    </tr>\n",
       "    <tr>\n",
       "      <th>Quantity</th>\n",
       "      <td>254.0</td>\n",
       "      <td>460.610541</td>\n",
       "      <td>200.400802</td>\n",
       "      <td>201.005025</td>\n",
       "      <td>538.876059</td>\n",
       "      <td>677.444188</td>\n",
       "      <td>754.426482</td>\n",
       "      <td>214.889551</td>\n",
       "    </tr>\n",
       "  </tbody>\n",
       "</table>\n",
       "</div>"
      ],
      "text/plain": [
       "          count                           mean                  min  \\\n",
       "Order ID  254.0                   10584.133858              10452.0   \n",
       "Date        254  2022-12-03 10:23:37.322834688  2022-11-07 00:00:00   \n",
       "Price     254.0                       7.102323                 2.95   \n",
       "Quantity  254.0                     460.610541           200.400802   \n",
       "\n",
       "                          25%                  50%                  75%  \\\n",
       "Order ID             10520.25              10583.5             10649.75   \n",
       "Date      2022-11-21 00:00:00  2022-12-03 00:00:00  2022-12-16 18:00:00   \n",
       "Price                    3.49                 4.99                 9.95   \n",
       "Quantity           201.005025           538.876059           677.444188   \n",
       "\n",
       "                          max         std  \n",
       "Order ID              10713.0   75.889181  \n",
       "Date      2022-12-29 00:00:00         NaN  \n",
       "Price                   29.05    4.341855  \n",
       "Quantity           754.426482  214.889551  "
      ]
     },
     "execution_count": 12,
     "metadata": {},
     "output_type": "execute_result"
    }
   ],
   "source": [
    "# summary of the statistics of the dataset\n",
    "df.describe().T"
   ]
  },
  {
   "cell_type": "code",
   "execution_count": 13,
   "id": "aa9ea79c-6789-41a1-a9ea-96cfa716805e",
   "metadata": {},
   "outputs": [
    {
     "name": "stdout",
     "output_type": "stream",
     "text": [
      "<class 'pandas.core.frame.DataFrame'>\n",
      "RangeIndex: 254 entries, 0 to 253\n",
      "Data columns (total 9 columns):\n",
      " #   Column          Non-Null Count  Dtype         \n",
      "---  ------          --------------  -----         \n",
      " 0   Order ID        254 non-null    int64         \n",
      " 1   Date            254 non-null    datetime64[ns]\n",
      " 2   Product         254 non-null    object        \n",
      " 3   Price           254 non-null    float64       \n",
      " 4   Quantity        254 non-null    float64       \n",
      " 5   Purchase Type   254 non-null    object        \n",
      " 6   Payment Method  254 non-null    object        \n",
      " 7   Manager         254 non-null    object        \n",
      " 8   City            254 non-null    object        \n",
      "dtypes: datetime64[ns](1), float64(2), int64(1), object(5)\n",
      "memory usage: 18.0+ KB\n"
     ]
    }
   ],
   "source": [
    "# checking the dataset info   \n",
    "df.info()"
   ]
  },
  {
   "cell_type": "code",
   "execution_count": 14,
   "id": "0d072032-73ad-4f4d-8af3-3a92c3ca9fb2",
   "metadata": {},
   "outputs": [
    {
     "data": {
      "text/plain": [
       "Index(['Order ID', 'Date', 'Product', 'Price', 'Quantity', 'Purchase Type',\n",
       "       'Payment Method', 'Manager', 'City'],\n",
       "      dtype='object')"
      ]
     },
     "execution_count": 14,
     "metadata": {},
     "output_type": "execute_result"
    }
   ],
   "source": [
    "#checking the columns of the dataset \n",
    "df.columns"
   ]
  },
  {
   "cell_type": "code",
   "execution_count": 15,
   "id": "7a2a323a-cbe0-4cd5-a3e1-02efc8b8e218",
   "metadata": {},
   "outputs": [
    {
     "data": {
      "text/plain": [
       "<bound method DataFrame.corr of      Order ID       Date             Product  Price    Quantity Purchase Type  \\\n",
       "0       10452 2022-11-07               Fries   3.49  573.065903        Online   \n",
       "1       10453 2022-11-07           Beverages   2.95  745.762712        Online   \n",
       "2       10454 2022-11-07       Sides & Other   4.99  200.400802      In-store   \n",
       "3       10455 2022-11-08             Burgers  12.99  569.668976      In-store   \n",
       "4       10456 2022-11-08  Chicken Sandwiches   9.95  201.005025      In-store   \n",
       "..        ...        ...                 ...    ...         ...           ...   \n",
       "249     10709 2022-12-28       Sides & Other   4.99  200.400802    Drive-thru   \n",
       "250     10710 2022-12-29             Burgers  12.99  754.426482    Drive-thru   \n",
       "251     10711 2022-12-29  Chicken Sandwiches   9.95  281.407035    Drive-thru   \n",
       "252     10712 2022-12-29               Fries   3.49  630.372493    Drive-thru   \n",
       "253     10713 2022-12-29           Beverages   2.95  677.966102    Drive-thru   \n",
       "\n",
       "    Payment Method        Manager    City  \n",
       "0        Gift Card    Tom Jackson  London  \n",
       "1        Gift Card    Pablo Perez  Madrid  \n",
       "2        Gift Card     Joao Silva  Lisbon  \n",
       "3      Credit Card  Walter Muller  Berlin  \n",
       "4      Credit Card  Walter Muller  Berlin  \n",
       "..             ...            ...     ...  \n",
       "249      Gift Card  Walter Muller  Berlin  \n",
       "250      Gift Card  Walter Muller  Berlin  \n",
       "251      Gift Card  Walter Muller  Berlin  \n",
       "252      Gift Card  Walter Muller  Berlin  \n",
       "253      Gift Card  Walter Muller  Berlin  \n",
       "\n",
       "[254 rows x 9 columns]>"
      ]
     },
     "execution_count": 15,
     "metadata": {},
     "output_type": "execute_result"
    }
   ],
   "source": [
    "df.corr"
   ]
  },
  {
   "cell_type": "code",
   "execution_count": null,
   "id": "728c2875-87eb-4c25-b2e7-1f2de50573ba",
   "metadata": {},
   "outputs": [],
   "source": []
  },
  {
   "cell_type": "markdown",
   "id": "6ff45dbf-b5e1-41c7-aba6-71b38f441dd4",
   "metadata": {},
   "source": [
    "## Answering the business questions"
   ]
  },
  {
   "cell_type": "markdown",
   "id": "ad3bb4cd-4d93-4faf-b383-19836e44069a",
   "metadata": {},
   "source": [
    "## Q1. What was the Most Preferred Payment Method?\n",
    "*NOTE* : The most preferred payment method is \"credit card\" with \"120\" records."
   ]
  },
  {
   "cell_type": "code",
   "execution_count": 17,
   "id": "2e74955e-274a-4090-965e-bc06e4c6b0e5",
   "metadata": {},
   "outputs": [
    {
     "name": "stdout",
     "output_type": "stream",
     "text": [
      "Payment Method\n",
      "Credit Card    120\n",
      "Cash            76\n",
      "Gift Card       58\n",
      "Name: count, dtype: int64\n"
     ]
    }
   ],
   "source": [
    "payment_counts = df['Payment Method'].value_counts()\n",
    "print (payment_counts)"
   ]
  },
  {
   "cell_type": "markdown",
   "id": "7622bded-c99d-4076-8686-c065b399200e",
   "metadata": {},
   "source": [
    "## Q2. Which one was the Most Selling Product by Quantity and by Revenue?\n",
    "*NOTE* : \"Beverages\" is the most selling product by Quantity. While\n",
    "\"Burgers\" is the most selling product by Revenue."
   ]
  },
  {
   "cell_type": "code",
   "execution_count": 18,
   "id": "aeccdc0e-6d9e-430c-843e-beed3aa161ed",
   "metadata": {},
   "outputs": [
    {
     "name": "stdout",
     "output_type": "stream",
     "text": [
      "Product\n",
      "Beverages             34983.050847\n",
      "Fries                 32034.383954\n",
      "Burgers               29022.324865\n",
      "Chicken Sandwiches    11135.678392\n",
      "Sides & Other          9819.639279\n",
      "Name: Quantity, dtype: float64\n"
     ]
    }
   ],
   "source": [
    "# the most selling product by quantity.\n",
    "most_selling_product_by_Quantity = df.groupby ('Product') ['Quantity'].sum().sort_values(ascending=False)\n",
    "print (most_selling_product_by_Quantity)"
   ]
  },
  {
   "cell_type": "code",
   "execution_count": 19,
   "id": "3449b4b6-f40e-4c04-acae-8a006ef3d87a",
   "metadata": {},
   "outputs": [
    {
     "name": "stdout",
     "output_type": "stream",
     "text": [
      "Product\n",
      "Burgers               377000.000000\n",
      "Fries                 125674.498567\n",
      "Chicken Sandwiches    114639.195980\n",
      "Beverages             103200.000000\n",
      "Sides & Other          49000.000000\n",
      "Name: Revenue, dtype: float64\n"
     ]
    }
   ],
   "source": [
    "#calculating the revenue \n",
    "df['Revenue'] = df['Quantity']*df['Price']\n",
    "most_selling_product_by_Revenue = df.groupby('Product') ['Revenue'].sum().sort_values(ascending=False)\n",
    "print (most_selling_product_by_Revenue) "
   ]
  },
  {
   "cell_type": "markdown",
   "id": "91db6c2d-0156-461d-bfae-008ab7b14b41",
   "metadata": {},
   "source": [
    "## Q3. Which City had maximum revenue, and Which Manager earned maximum revenue?\n",
    "*NOTE* \"Lisbon\" city had the maximum revenue,and \"Joao Silva\" earned the maximum revenue."
   ]
  },
  {
   "cell_type": "code",
   "execution_count": 20,
   "id": "9c5f0b5f-fb0e-4ce3-8221-d87b54ef0014",
   "metadata": {},
   "outputs": [
    {
     "data": {
      "text/plain": [
       "City\n",
       "Lisbon    241713.694547\n",
       "London    211200.000000\n",
       "Madrid    136200.000000\n",
       "Berlin    100600.000000\n",
       "Paris      79800.000000\n",
       "Name: Revenue, dtype: float64"
      ]
     },
     "execution_count": 20,
     "metadata": {},
     "output_type": "execute_result"
    }
   ],
   "source": [
    "# maximum revenue by city\n",
    "Max_revenue_by_City = df.groupby ('City') ['Revenue'].sum().sort_values(ascending=False)\n",
    "Max_revenue_by_City.head(5)"
   ]
  },
  {
   "cell_type": "code",
   "execution_count": 23,
   "id": "28865fb2-92c4-47cd-99ba-1e5a1c936806",
   "metadata": {},
   "outputs": [
    {
     "data": {
      "text/plain": [
       "Manager\n",
       "Joao Silva       241713.694547\n",
       "Tom Jackson      211200.000000\n",
       "Pablo Perez      136200.000000\n",
       "Walter Muller    100600.000000\n",
       "Remy Monet        79800.000000\n",
       "Name: Revenue, dtype: float64"
      ]
     },
     "execution_count": 23,
     "metadata": {},
     "output_type": "execute_result"
    }
   ],
   "source": [
    "# mximum revenue earned by manager \n",
    "Max_revenue_earned_by_Manager = df.groupby('Manager') ['Revenue'].sum().sort_values(ascending=False)\n",
    "Max_revenue_earned_by_Manager.head(5) "
   ]
  },
  {
   "cell_type": "markdown",
   "id": "b0571df2-6c73-419c-b919-9b1d2489a1be",
   "metadata": {},
   "source": [
    "## Q4.What was the Average Revenue?\n",
    "*NOTE* : the average revenue is  \"3029.5814745954126\". "
   ]
  },
  {
   "cell_type": "code",
   "execution_count": 22,
   "id": "179ac09c-8396-4136-ab5a-a1379b0d5db1",
   "metadata": {},
   "outputs": [
    {
     "name": "stdout",
     "output_type": "stream",
     "text": [
      "3029.5814745954126 is the average revenue for the order id\n"
     ]
    }
   ],
   "source": [
    "Avg_Revenue = df['Revenue'].mean()\n",
    "print (f'{Avg_Revenue} is the average revenue for the order id')"
   ]
  },
  {
   "cell_type": "markdown",
   "id": "09d2b86a-bb8d-47b9-9da9-5cda0e494d6c",
   "metadata": {},
   "source": [
    "## Q5.What was the Average Revenue of November & December?\n",
    "*NOTE*: The average revenue for November is \"2939.05\",while December is \"3102.12\"."
   ]
  },
  {
   "cell_type": "code",
   "execution_count": 24,
   "id": "3eeb3486-64e0-4ffe-98f3-7a65e35db858",
   "metadata": {},
   "outputs": [
    {
     "data": {
      "text/html": [
       "<div>\n",
       "<style scoped>\n",
       "    .dataframe tbody tr th:only-of-type {\n",
       "        vertical-align: middle;\n",
       "    }\n",
       "\n",
       "    .dataframe tbody tr th {\n",
       "        vertical-align: top;\n",
       "    }\n",
       "\n",
       "    .dataframe thead th {\n",
       "        text-align: right;\n",
       "    }\n",
       "</style>\n",
       "<table border=\"1\" class=\"dataframe\">\n",
       "  <thead>\n",
       "    <tr style=\"text-align: right;\">\n",
       "      <th></th>\n",
       "      <th>Order ID</th>\n",
       "      <th>Date</th>\n",
       "      <th>Product</th>\n",
       "      <th>Price</th>\n",
       "      <th>Quantity</th>\n",
       "      <th>Purchase Type</th>\n",
       "      <th>Payment Method</th>\n",
       "      <th>Manager</th>\n",
       "      <th>City</th>\n",
       "      <th>Revenue</th>\n",
       "      <th>Month</th>\n",
       "    </tr>\n",
       "  </thead>\n",
       "  <tbody>\n",
       "  </tbody>\n",
       "</table>\n",
       "</div>"
      ],
      "text/plain": [
       "Empty DataFrame\n",
       "Columns: [Order ID, Date, Product, Price, Quantity, Purchase Type, Payment Method, Manager, City, Revenue, Month]\n",
       "Index: []"
      ]
     },
     "execution_count": 24,
     "metadata": {},
     "output_type": "execute_result"
    }
   ],
   "source": [
    "# Extract month name \n",
    "df['Month'] = df['Date'].dt.month_name() \n",
    "df.head (0)"
   ]
  },
  {
   "cell_type": "code",
   "execution_count": 25,
   "id": "1717bcd3-0826-46fb-b542-217f3a37e247",
   "metadata": {},
   "outputs": [
    {
     "name": "stdout",
     "output_type": "stream",
     "text": [
      "2939.0592437808386 is the average revenue for november\n",
      "3102.127659574468 is the average revenue for december\n"
     ]
    }
   ],
   "source": [
    "# average revenue for November \n",
    "avg_rev_ = df.groupby('Month') ['Revenue'].mean() \n",
    "#Get nov & dec \n",
    "Nov_avg_rev = avg_rev_.get('November')\n",
    "Dec_avf_rev = avg_rev_.get('December')\n",
    "print (f'{Nov_avg_rev} is the average revenue for november') \n",
    "print (f'{Dec_avf_rev} is the average revenue for december')"
   ]
  },
  {
   "cell_type": "markdown",
   "id": "48e57e3f-6cdd-4e98-9ce9-978481d09745",
   "metadata": {},
   "source": [
    "## Q6.What was the Standard Deviation of Revenue and Quantity?\n",
    "*NOTE*: the revenue standard deviation is \"2420.1\",while quantity standard deviation is \"214.8\".\n"
   ]
  },
  {
   "cell_type": "code",
   "execution_count": 26,
   "id": "c7937e4f-a892-4c08-bd00-6630ea26ecd4",
   "metadata": {},
   "outputs": [
    {
     "name": "stdout",
     "output_type": "stream",
     "text": [
      "2420.1241927718024 is the revenue standard deviation\n"
     ]
    }
   ],
   "source": [
    "# Standard deviation for revenue \n",
    "Revenue_std = df['Revenue'].std()\n",
    "print ( f'{Revenue_std} is the revenue standard deviation')"
   ]
  },
  {
   "cell_type": "code",
   "execution_count": 27,
   "id": "5d1f3e9b-2b44-460a-b1a4-e5986fa6fe80",
   "metadata": {},
   "outputs": [
    {
     "name": "stdout",
     "output_type": "stream",
     "text": [
      "214.88955129185305 is the quantity standard deviation\n"
     ]
    }
   ],
   "source": [
    "# Standard deviation for Quantity  \n",
    "Quantity_std = df['Quantity'].std() \n",
    "print (f'{Quantity_std} is the quantity standard deviation') "
   ]
  },
  {
   "cell_type": "markdown",
   "id": "957bc316-acb0-4d72-9ceb-a0c8b987f417",
   "metadata": {},
   "source": [
    "## Q7. What was the Variance of Revenue and Quantity?\n",
    "*NOTE*: the revenue variance is \"5857001\".1,while quantity variance is \"46177.5\"."
   ]
  },
  {
   "cell_type": "code",
   "execution_count": 28,
   "id": "8074f1d5-e410-49af-b601-301b6ab0b918",
   "metadata": {},
   "outputs": [
    {
     "name": "stdout",
     "output_type": "stream",
     "text": [
      "5857001.108439369 is the revenue variance\n"
     ]
    }
   ],
   "source": [
    "# Variance for revenue \n",
    "Revenue_variance = df['Revenue'].var() \n",
    "print ( f'{Revenue_variance} is the revenue variance')\n"
   ]
  },
  {
   "cell_type": "code",
   "execution_count": 29,
   "id": "fdfc28e3-a355-4395-aae7-dff3df9ab5f7",
   "metadata": {},
   "outputs": [
    {
     "name": "stdout",
     "output_type": "stream",
     "text": [
      "46177.51925441394 is the quantity variance\n"
     ]
    }
   ],
   "source": [
    "# Variance for Quantity \n",
    "Quantity_variance = df['Quantity'].var() \n",
    "print (f'{Quantity_variance} is the quantity variance')"
   ]
  },
  {
   "cell_type": "markdown",
   "id": "88c36623-1ebc-4151-bbe9-3139c94be95e",
   "metadata": {},
   "source": [
    "## Q8.Was the revenue increasing or decreasing over the time? \n",
    "\n",
    "*NOTE*: From the revenue trend chart, we can observe that revenue was *generally increasing over time*.  \n",
    "- There was a significant spike around mid-November.  \n",
    "- Despite fluctuations, the revenue trend moved upward, with December showing higher and more stable revenues than November.  \n",
    "This indicates overall business growth across the two months."
   ]
  },
  {
   "cell_type": "code",
   "execution_count": 30,
   "id": "40fd49e1-4f29-4bde-a551-19c8151e476c",
   "metadata": {},
   "outputs": [
    {
     "data": {
      "text/plain": [
       "<Figure size 1000x500 with 0 Axes>"
      ]
     },
     "metadata": {},
     "output_type": "display_data"
    },
    {
     "data": {
      "image/png": "[encoded data removed]",
      "text/plain": [
       "<Figure size 1000x500 with 1 Axes>"
      ]
     },
     "metadata": {},
     "output_type": "display_data"
    }
   ],
   "source": [
    "# Q8.Was the revenue increasing or decreasing over the time? \n",
    "plt.figure(figsize=(10,5))\n",
    "plt.plot(df['Date'], df['Revenue'], marker='o')\n",
    "plt.title('Revenue Trend Over Time')\n",
    "plt.xlabel('Date')\n",
    "plt.ylabel('Revenue')\n",
    "plt.grid(False)\n",
    "plt.show()"
   ]
  },
  {
   "cell_type": "markdown",
   "id": "974c2ebd-e813-4998-926c-1d797420e0af",
   "metadata": {},
   "source": [
    "## Q9.What was the Average 'Quantity Sold' & 'Average Revenue' for each product?\n"
   ]
  },
  {
   "cell_type": "code",
   "execution_count": 38,
   "id": "93b90d67-c432-4302-b6ae-928e6bcff43e",
   "metadata": {},
   "outputs": [
    {
     "data": {
      "text/html": [
       "<div>\n",
       "<style scoped>\n",
       "    .dataframe tbody tr th:only-of-type {\n",
       "        vertical-align: middle;\n",
       "    }\n",
       "\n",
       "    .dataframe tbody tr th {\n",
       "        vertical-align: top;\n",
       "    }\n",
       "\n",
       "    .dataframe thead th {\n",
       "        text-align: right;\n",
       "    }\n",
       "</style>\n",
       "<table border=\"1\" class=\"dataframe\">\n",
       "  <thead>\n",
       "    <tr style=\"text-align: right;\">\n",
       "      <th></th>\n",
       "      <th>Product</th>\n",
       "      <th>Avg_Quantity</th>\n",
       "      <th>Avg_Revenue</th>\n",
       "    </tr>\n",
       "  </thead>\n",
       "  <tbody>\n",
       "    <tr>\n",
       "      <th>0</th>\n",
       "      <td>Beverages</td>\n",
       "      <td>699.661017</td>\n",
       "      <td>2064.000000</td>\n",
       "    </tr>\n",
       "    <tr>\n",
       "      <th>1</th>\n",
       "      <td>Burgers</td>\n",
       "      <td>558.121632</td>\n",
       "      <td>7250.000000</td>\n",
       "    </tr>\n",
       "    <tr>\n",
       "      <th>2</th>\n",
       "      <td>Chicken Sandwiches</td>\n",
       "      <td>214.147661</td>\n",
       "      <td>2204.599923</td>\n",
       "    </tr>\n",
       "    <tr>\n",
       "      <th>3</th>\n",
       "      <td>Fries</td>\n",
       "      <td>628.125176</td>\n",
       "      <td>2464.205854</td>\n",
       "    </tr>\n",
       "    <tr>\n",
       "      <th>4</th>\n",
       "      <td>Sides &amp; Other</td>\n",
       "      <td>200.400802</td>\n",
       "      <td>1000.000000</td>\n",
       "    </tr>\n",
       "  </tbody>\n",
       "</table>\n",
       "</div>"
      ],
      "text/plain": [
       "              Product  Avg_Quantity  Avg_Revenue\n",
       "0           Beverages    699.661017  2064.000000\n",
       "1             Burgers    558.121632  7250.000000\n",
       "2  Chicken Sandwiches    214.147661  2204.599923\n",
       "3               Fries    628.125176  2464.205854\n",
       "4       Sides & Other    200.400802  1000.000000"
      ]
     },
     "execution_count": 38,
     "metadata": {},
     "output_type": "execute_result"
    }
   ],
   "source": [
    "# Average quantity sold and revenue for each product\n",
    "avg_stats = df.groupby(\"Product\").agg(\n",
    "    Avg_Quantity=(\"Quantity\", \"mean\"),\n",
    "    Avg_Revenue=(\"Revenue\", \"mean\")\n",
    ").reset_index()\n",
    "\n",
    "avg_stats "
   ]
  },
  {
   "cell_type": "markdown",
   "id": "0bd3294b-f750-4af6-9504-6f156ef7d843",
   "metadata": {},
   "source": [
    "## Q10. What was the total number of orders or sales made? \n",
    "*NOTE*: the total number of sales made is \"254\"."
   ]
  },
  {
   "cell_type": "code",
   "execution_count": 43,
   "id": "7e09eeb1-1abd-4467-adf2-bb0e1053ff6d",
   "metadata": {},
   "outputs": [
    {
     "name": "stdout",
     "output_type": "stream",
     "text": [
      "254 is the total numbers of orders\n"
     ]
    }
   ],
   "source": [
    "# The total number of orders or sales made \n",
    "Total_no_of_sales = df['Order ID'].nunique() \n",
    "print (f'{Total_no_of_sales} is the total numbers of orders')"
   ]
  },
  {
   "cell_type": "code",
   "execution_count": null,
   "id": "d6e5eab4-9b69-4861-a7bc-ef443e69b0c2",
   "metadata": {},
   "outputs": [],
   "source": []
  },
  {
   "cell_type": "code",
   "execution_count": null,
   "id": "018a7228-e05a-419c-8694-c073871799d0",
   "metadata": {},
   "outputs": [],
   "source": []
  }
 ],
 "metadata": {
  "kernelspec": {
   "display_name": "Python [conda env:base] *",
   "language": "python",
   "name": "conda-base-py"
  },
  "language_info": {
   "codemirror_mode": {
    "name": "ipython",
    "version": 3
   },
   "file_extension": ".py",
   "mimetype": "text/x-python",
   "name": "python",
   "nbconvert_exporter": "python",
   "pygments_lexer": "ipython3",
   "version": "3.13.5"
  }
 },
 "nbformat": 4,
 "nbformat_minor": 5
}
